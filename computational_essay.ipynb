{
 "cells": [
  {
   "attachments": {},
   "cell_type": "markdown",
   "metadata": {},
   "source": [
    "# How Happy were Spotify Users Before and After the COVID-19 Pandemic?\n",
    "#### *Collaborators: Jun Park, Allan Huang, Swasti Jain*"
   ]
  },
  {
   "attachments": {},
   "cell_type": "markdown",
   "metadata": {},
   "source": [
    "## 1.0 Introduction\n"
   ]
  },
  {
   "attachments": {},
   "cell_type": "markdown",
   "metadata": {},
   "source": [
    "### 1.1 Research Question\n",
    "We are interested in whether the COVID-19 pandemic, that started in March 2020, had any impact on the happiness levels of the music Spotify users listened to in that year. \n"
   ]
  },
  {
   "attachments": {},
   "cell_type": "markdown",
   "metadata": {},
   "source": [
    "### 1.2 Background and Importance\n",
    "\n",
    "As a global collective, we all experienced some effect of the COVID-19 pandemic. Due to the stay-at-home quarantine and thus the lack of social engagement, many individuals' mental wellbeing declined. We wondered if the global pandemic starting in 2020 would have an impact on the music happiness of Spotify listeners by looking at their music trends over the past four years.   \n",
    "\n",
    "Additionally, Spotify does a lot of analysis on individual music as a part of Spotify wrapped every year. With so much information on the music taste of a person it could be helpful to know whether trends in their music taste have an association with their mental wellbeing. For people who are struggling with poor mental health, listening to a prescribed playlist of more upbeat music or tracking what a patient is listening to over time could be helpful tools in monitoring and improving the mental wellbeing of individuals. \n"
   ]
  },
  {
   "attachments": {},
   "cell_type": "markdown",
   "metadata": {},
   "source": [
    "## 2.0 Methodology"
   ]
  },
  {
   "attachments": {},
   "cell_type": "markdown",
   "metadata": {},
   "source": [
    "### 2.1 Data Acquisition\n",
    "\n",
    "Our team used the Top 100 songs playlist that is made for every Spotify user at the end of every year, as we deemed it a good summary of the type of music an individual listened to in a year.\n",
    "Spotify generates these playlists privately for each user; therefore, to collect data for these playlists, we needed users to willingly change their private playlists into a public format.\n",
    "\n",
    "Therefore, we sent out a survey for people to volunteer for our study. We asked a broad range of young adults (ages 16-25) to submit a public copy of their Top 100 playlist from the past four years, from 2019 to 2022. \n",
    "\n",
    "We first sent out a Google Form to collect the data from our volunteers. While we needed the overall data of many users, we also calculated the average valence value, Spotify’s measure of happiness in a song, for each individual and sent their scores in an email. This form included a pictorial tutorial of how to find and create a copy of the playlists. Unfortunately this proved to be suboptimal as there were many steps that were easy to mess up. Additionally we wanted to gain data from more volunteers.\n",
    "\n",
    "To address these problems we did two things. We first implemented a link validation function to make sure the url’s we scraped were valid (more on this later). Secondly we held an in-person event where we not only were able to help participants submit their data correctly but also gain more data. \n",
    "\n"
   ]
  },
  {
   "attachments": {},
   "cell_type": "markdown",
   "metadata": {},
   "source": [
    "### 2.2 Data Processing \n",
    "\n",
    "Our data were string type playlist links stored in a google spreadsheet. We decided against saving our data as a csv so the participants’ personal data remains protected within the private access google spreadsheet. \n",
    "\n",
    "Our first section of data processing was using google’s spreadsheet api to scrape the sheet for the relevant information. \n",
    "\n",
    "As aforementioned, we encountered participants submitting invalid links. For this reason we created a function that would check whether the url was a valid and accessible spotify link. \n",
    "\n",
    "We then created a dictionary in which the keys were each year (i.e. 2019, 2020, 2021, 2022) and the values were lists of the viable playlist links. The non-viable links were replaced with empty strings and thus our data was cleared of inconsistencies. \n",
    "\n",
    "The next section of our data processing was to scrape the individual songs from each spotify playlist and find the average valence per user each year. \n",
    "\n",
    "We split this into many parts. \n",
    "\n",
    "Finding the playlist link uri\n",
    "\n",
    "Finding the track id\n",
    "\n",
    "Pulling the valence for that track\n",
    "\n",
    "Averaging the valence for a playlist\n",
    "\n",
    "Finding the averages for all the users\n",
    "\n",
    "\n"
   ]
  },
  {
   "attachments": {},
   "cell_type": "markdown",
   "metadata": {},
   "source": [
    "### 2.3 Data Storage and Processing"
   ]
  },
  {
   "attachments": {},
   "cell_type": "markdown",
   "metadata": {},
   "source": [
    "## 3.0 Results\n"
   ]
  },
  {
   "attachments": {},
   "cell_type": "markdown",
   "metadata": {},
   "source": [
    "### 3.1.1 Visualization 1\n",
    "These graphs represent the average valence for that years’ playlist for each user.\n",
    "\n",
    "\n",
    "\n",
    "\n",
    "### 3.1.2 Important Takeaways\n",
    "We look at the valence averages over a year to see if there is any similarity among the group. We find that the spread is fairly random and unpredictable.\n",
    "\n"
   ]
  },
  {
   "attachments": {},
   "cell_type": "markdown",
   "metadata": {},
   "source": [
    "### 3.2.1 Visualization 2\n",
    "This graph represents the average valence for all users\n",
    "\n",
    "### 3.2.2 Important Takeaways\n",
    "Logically we take the average to see if it can indicate a massive spike or decrease in the happiness of each year. However, we can see that there is no strongly discernible trend. This tells us that the average may not be a good indicator of how individuals\n"
   ]
  },
  {
   "attachments": {},
   "cell_type": "markdown",
   "metadata": {},
   "source": [
    "### 3.3.1 Visualization 3\n",
    "\n",
    "\n",
    "### 3.3.2 Important Takeaways"
   ]
  },
  {
   "attachments": {},
   "cell_type": "markdown",
   "metadata": {},
   "source": [
    "## 4.0 Conclusion"
   ]
  }
 ],
 "metadata": {
  "language_info": {
   "name": "python"
  },
  "orig_nbformat": 4
 },
 "nbformat": 4,
 "nbformat_minor": 2
}
